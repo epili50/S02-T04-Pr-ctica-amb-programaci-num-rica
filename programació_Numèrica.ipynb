{
 "cells": [
  {
   "cell_type": "markdown",
   "id": "2e9b456f",
   "metadata": {},
   "source": [
    "# S02 T04: Pràctica amb programació numèrica\n"
   ]
  },
  {
   "cell_type": "markdown",
   "id": "138e36f1",
   "metadata": {},
   "source": [
    "## Nivel 1"
   ]
  },
  {
   "cell_type": "markdown",
   "id": "c7cb7029",
   "metadata": {},
   "source": [
    "### Ejercicio 1"
   ]
  },
  {
   "cell_type": "code",
   "execution_count": 5,
   "id": "a9a271e6",
   "metadata": {},
   "outputs": [
    {
     "name": "stdout",
     "output_type": "stream",
     "text": [
      "               0\n",
      "count   6.000000\n",
      "mean   28.666667\n",
      "std    33.374641\n",
      "min     5.000000\n",
      "25%     6.250000\n",
      "50%    14.000000\n",
      "75%    37.500000\n",
      "max    90.000000\n",
      "Error. El array solo debe tener una dimansión\n"
     ]
    }
   ],
   "source": [
    "#Crea una funció que donat un Array d’una dimensió, et faci un resum estadístic bàsic de les dades. \n",
    "#Si detecta que l’array té més d’una dimensió, ha de mostrar un missatge d’error.\n",
    "\n",
    "\n",
    "import numpy as np\n",
    "import pandas as pd \n",
    "\n",
    "array = np.array([5, 6, 7, 90, 43, 21])\n",
    "array2 = np.array([[2, 4, 8], [9, 3, 1]])\n",
    "\n",
    "\n",
    "def resumenEstadistic(array):\n",
    "    if array.ndim > 1:\n",
    "        print(\"Error. El array solo debe tener una dimansión\")\n",
    "    else:\n",
    "        print (pd.DataFrame(array).describe())\n",
    "\n",
    "resumenEstadistic(array)\n",
    "\n",
    "#Array de más de una dimensión\n",
    "resumenEstadistic(array2)\n",
    "\n",
    "\n"
   ]
  },
  {
   "cell_type": "markdown",
   "id": "d50ec395",
   "metadata": {},
   "source": [
    "### Ejercicio 2"
   ]
  },
  {
   "cell_type": "code",
   "execution_count": 5,
   "id": "44563a4b",
   "metadata": {},
   "outputs": [
    {
     "name": "stdout",
     "output_type": "stream",
     "text": [
      "[[37 30 25 81 65 60 34 38 76]\n",
      " [69 79 18 21 11  5 93 76 67]\n",
      " [54 12 16  3  2 62 40 36 94]\n",
      " [18 13 75 46 29 92 20 75 82]\n",
      " [15 21 12 39 45 53 95  6 29]\n",
      " [59 76 27 66 76 92 38 73 32]\n",
      " [43 16 79 83 56 63 76 63 86]\n",
      " [ 5 50 35 45 98 59 45 91 53]\n",
      " [55 18 62 74 57  0 69  8 19]]\n"
     ]
    }
   ],
   "source": [
    "#Crea una funció que et generi un quadrat NxN de nombres aleatoris entre el 0 i el 100.\n",
    "\n",
    "import random\n",
    "\n",
    "def cuadradoAleatorio():\n",
    "    nro = random.randint(1,10) \n",
    "    array = np.random.randint(100, size=(nro, nro)) \n",
    "    print(array)\n",
    "\n",
    "\n",
    "cuadradoAleatorio()\n",
    "\n"
   ]
  },
  {
   "cell_type": "markdown",
   "id": "f5240eff",
   "metadata": {},
   "source": [
    "### Ejercicio 3"
   ]
  },
  {
   "cell_type": "code",
   "execution_count": 3,
   "id": "73e2edc5",
   "metadata": {},
   "outputs": [
    {
     "name": "stdout",
     "output_type": "stream",
     "text": [
      "[[1 7 4 8]\n",
      " [6 1 5 2]\n",
      " [1 4 8 2]\n",
      " [6 8 3 7]\n",
      " [2 6 3 3]]\n",
      "La suma de las columnas de la matriz es [16 26 23 22] y la suma de las filas es [20 14 15 24 14]\n",
      "Error. El array debe tener dos dimansiones\n"
     ]
    }
   ],
   "source": [
    "#Crea una funció que donada una taula de dues dimensions, et calculi els totals per fila i els totals per columna.\n",
    "\n",
    "array2D = array = np.random.randint(10, size=(5, 4))\n",
    "array3D = array = np.random.randint(10, size=(3, 4, 3))\n",
    "\n",
    "print(array2D)\n",
    "\n",
    "def sumColFil(array):\n",
    "    if array.ndim != 2:\n",
    "        print(\"Error. El array debe tener dos dimansiones\")\n",
    "    else:\n",
    "        print(\"La suma de las columnas de la matriz es\", np.sum(array, axis=0), \"y la suma de las filas es\", \n",
    "              np.sum(array, axis=1))\n",
    "\n",
    "sumColFil(array2D)\n",
    "sumColFil(array3D)\n",
    "    "
   ]
  },
  {
   "cell_type": "markdown",
   "id": "32a20d51",
   "metadata": {},
   "source": [
    "### Ejercicio 4"
   ]
  },
  {
   "cell_type": "code",
   "execution_count": 11,
   "id": "57cbd404",
   "metadata": {},
   "outputs": [
    {
     "name": "stdout",
     "output_type": "stream",
     "text": [
      "30.0 18.0 50.0 30.0 1.0\n"
     ]
    },
    {
     "data": {
      "text/plain": [
       "1.0"
      ]
     },
     "execution_count": 11,
     "metadata": {},
     "output_type": "execute_result"
    }
   ],
   "source": [
    "#Implementa manualment una funció que calculi el coeficient de correlació.\n",
    "#Informa’t-en sobre els seus usos i interpretació.\n",
    "\n",
    "\n",
    "\n",
    "x = [3, 6, 9]\n",
    "y = [70, 75,80]\n",
    "\n",
    "def coefCorrelacion (x, y):\n",
    "    if(len(x) != len(y)):\n",
    "        print(\"La cantidad de elementos a comparar para hacer un coeficiente de correlación debe ser el mismo\")\n",
    "    else:\n",
    "        #Paso 1: promedio de las listas\n",
    "        promedioX = sum(x) / len(x)\n",
    "        promedioY = sum(y) / len(y)\n",
    "\n",
    "        #paso 2: numerador\n",
    "        numerador = 0\n",
    "        for i in range(len(x)):\n",
    "            numerador += ((x[i] - promedioX) * (y[i] - promedioY))\n",
    "\n",
    "        #paso 4 denominador\n",
    "        potenciasX = 0\n",
    "        potenciasY = 0\n",
    "        for i in range(len(x)):\n",
    "            potenciasX += ((x[i] - promedioX) ** 2)\n",
    "            potenciasY += ((y[i] - promedioY) ** 2)\n",
    "\n",
    "        denominador = ((potenciasX * potenciasY) ** (0.5))\n",
    "\n",
    "        #paso 5 r:\n",
    "        r = numerador / denominador\n",
    "        return r\n",
    "\n",
    "\n",
    "\n",
    "\n",
    "print (distancia, potenciasX, potenciasY, denominador, r)\n",
    "coefCorrelacion(x,y)\n"
   ]
  },
  {
   "attachments": {
    "1557786509536.webp": {
     "image/webp": "[encoded data removed]"
    }
   },
   "cell_type": "markdown",
   "id": "2757410d",
   "metadata": {},
   "source": [
    "Links con info d coeficiente de correlacion:\n",
    "[Coeficiente de relacion ej 1](https://www.jmp.com/es_pe/statistics-knowledge-portal/what-is-correlation/correlation-coefficient.html)\n",
    "[Coeficiente de relacion ej 2](https://www.codegrepper.com/code-examples/python/hyperlinks+in+jupyter+notebook)\n",
    "\n",
    "Formula de coeficiente de correlación:\n",
    "\n",
    "![1557786509536.webp](attachment:1557786509536.webp)"
   ]
  }
 ],
 "metadata": {
  "hide_input": false,
  "kernelspec": {
   "display_name": "Python 3 (ipykernel)",
   "language": "python",
   "name": "python3"
  },
  "language_info": {
   "codemirror_mode": {
    "name": "ipython",
    "version": 3
   },
   "file_extension": ".py",
   "mimetype": "text/x-python",
   "name": "python",
   "nbconvert_exporter": "python",
   "pygments_lexer": "ipython3",
   "version": "3.9.7"
  },
  "nbTranslate": {
   "displayLangs": [
    "*"
   ],
   "hotkey": "alt-t",
   "langInMainMenu": true,
   "sourceLang": "en",
   "targetLang": "fr",
   "useGoogleTranslate": true
  },
  "toc": {
   "base_numbering": 1,
   "nav_menu": {},
   "number_sections": true,
   "sideBar": true,
   "skip_h1_title": false,
   "title_cell": "Table of Contents",
   "title_sidebar": "Contents",
   "toc_cell": false,
   "toc_position": {},
   "toc_section_display": true,
   "toc_window_display": false
  },
  "varInspector": {
   "cols": {
    "lenName": 16,
    "lenType": 16,
    "lenVar": 40
   },
   "kernels_config": {
    "python": {
     "delete_cmd_postfix": "",
     "delete_cmd_prefix": "del ",
     "library": "var_list.py",
     "varRefreshCmd": "print(var_dic_list())"
    },
    "r": {
     "delete_cmd_postfix": ") ",
     "delete_cmd_prefix": "rm(",
     "library": "var_list.r",
     "varRefreshCmd": "cat(var_dic_list()) "
    }
   },
   "types_to_exclude": [
    "module",
    "function",
    "builtin_function_or_method",
    "instance",
    "_Feature"
   ],
   "window_display": false
  }
 },
 "nbformat": 4,
 "nbformat_minor": 5
}
